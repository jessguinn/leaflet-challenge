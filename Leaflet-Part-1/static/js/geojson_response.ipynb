{
 "cells": [
  {
   "cell_type": "code",
   "execution_count": 1,
   "id": "9802e8b2",
   "metadata": {},
   "outputs": [],
   "source": [
    "import requests\n",
    "import json"
   ]
  },
  {
   "cell_type": "code",
   "execution_count": 2,
   "id": "d00fea14",
   "metadata": {},
   "outputs": [],
   "source": [
    "# URL of the USGS Earthquake API\n",
    "url = \"https://earthquake.usgs.gov/earthquakes/feed/v1.0/summary/all_week.geojson\""
   ]
  },
  {
   "cell_type": "code",
   "execution_count": 3,
   "id": "07b020e8",
   "metadata": {},
   "outputs": [],
   "source": [
    "# Send a GET request to the API\n",
    "response = requests.get(url)"
   ]
  },
  {
   "cell_type": "code",
   "execution_count": 4,
   "id": "5d9760d4",
   "metadata": {},
   "outputs": [],
   "source": [
    "# Check if the request was successful\n",
    "if response.status_code == 200:\n",
    "    # Parse the JSON content\n",
    "    data = response.json()"
   ]
  },
  {
   "cell_type": "code",
   "execution_count": 5,
   "id": "2ea52c2b",
   "metadata": {},
   "outputs": [],
   "source": [
    "# Save the JSON content to a GeoJSON file\n",
    "with open(\"earthquake_data.geojson\", \"w\") as geojson_file:\n",
    "    json.dump(data, geojson_file, indent=4)"
   ]
  },
  {
   "cell_type": "code",
   "execution_count": 6,
   "id": "3aa73306",
   "metadata": {},
   "outputs": [
    {
     "name": "stdout",
     "output_type": "stream",
     "text": [
      "Data successfully saved to earthquake_data.geojson\n"
     ]
    }
   ],
   "source": [
    "print(\"Data successfully saved to earthquake_data.geojson\")"
   ]
  },
  {
   "cell_type": "code",
   "execution_count": null,
   "id": "d4c3501b",
   "metadata": {},
   "outputs": [],
   "source": []
  }
 ],
 "metadata": {
  "kernelspec": {
   "display_name": "Python 3 (ipykernel)",
   "language": "python",
   "name": "python3"
  },
  "language_info": {
   "codemirror_mode": {
    "name": "ipython",
    "version": 3
   },
   "file_extension": ".py",
   "mimetype": "text/x-python",
   "name": "python",
   "nbconvert_exporter": "python",
   "pygments_lexer": "ipython3",
   "version": "3.10.13"
  }
 },
 "nbformat": 4,
 "nbformat_minor": 5
}
